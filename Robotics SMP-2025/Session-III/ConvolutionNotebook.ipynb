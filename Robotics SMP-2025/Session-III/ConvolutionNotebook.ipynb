{
 "cells": [
  {
   "cell_type": "code",
   "execution_count": 6,
   "id": "65e30103",
   "metadata": {},
   "outputs": [],
   "source": [
    "def compute_output_dim(input_size, kernel_size, stride, padding):\n",
    "    \"\"\"\n",
    "    Compute output size (height or width) after Conv2d or Pooling.\n",
    "\n",
    "    Args:\n",
    "        input_size (int): Input image dimension (height or width)\n",
    "        kernel_size (int): Size of the kernel (filter)\n",
    "        stride (int): Stride of the operation\n",
    "        padding (int): Padding added to both sides\n",
    "\n",
    "    Returns:\n",
    "        int: Output size after applying the operation\n",
    "    \"\"\"\n",
    "    return ((input_size + 2 * padding - kernel_size) // stride) + 1"
   ]
  },
  {
   "cell_type": "code",
   "execution_count": 7,
   "id": "7c015dcb",
   "metadata": {},
   "outputs": [
    {
     "name": "stdout",
     "output_type": "stream",
     "text": [
      "Output size after Conv: 28 x 28\n"
     ]
    }
   ],
   "source": [
    "# Suppose input image is 28x28\n",
    "batch_size, img_channel, img_size = 1, 1, 28\n",
    "\n",
    "# Conv layer with kernel=3, stride=1, padding=1\n",
    "new_img_size = compute_output_dim(img_size, kernel_size=3, stride=1, padding=1)\n",
    "print(f\"Output size after Conv: {new_img_size} x {new_img_size}\")  # → 28 x 28"
   ]
  },
  {
   "cell_type": "code",
   "execution_count": 8,
   "id": "bcc8e1b6",
   "metadata": {},
   "outputs": [
    {
     "name": "stdout",
     "output_type": "stream",
     "text": [
      "Output size after Pool: 14 x 14\n"
     ]
    }
   ],
   "source": [
    "# After MaxPool with kernel=2, stride=2, padding=0\n",
    "new_img_size_with_pool = compute_output_dim(new_img_size, kernel_size=2, stride=2, padding=0)\n",
    "print(f\"Output size after Pool: {new_img_size_with_pool} x {new_img_size_with_pool}\")  # → 14 x 14"
   ]
  },
  {
   "cell_type": "code",
   "execution_count": 9,
   "id": "0434615c",
   "metadata": {},
   "outputs": [],
   "source": [
    "import torch.nn as nn\n",
    "\n",
    "def make_conv_block(in_channels=1, \n",
    "                    out_channels=64, \n",
    "                    kernel_size=3, \n",
    "                    stride=1, \n",
    "                    padding=1):\n",
    "    \"\"\"\n",
    "    Returns a customizable Conv block with Conv2d + ReLU + MaxPool2d.\n",
    "\n",
    "    Parameters:\n",
    "    - in_channels (int): Number of input channels (e.g., 1 for grayscale, 3 for RGB).\n",
    "    - out_channels (int): Number of output filters.\n",
    "    - kernel_size (int or tuple): Size of the convolution kernel.\n",
    "    - stride (int or tuple): Convolution stride.\n",
    "    - padding (int or tuple): Convolution padding.\n",
    "    - pool_kernel (int or tuple): Max pooling kernel size.\n",
    "    - pool_stride (int or tuple): Max pooling stride.\n",
    "\n",
    "    Returns:\n",
    "    - nn.Sequential block.\n",
    "    \"\"\"\n",
    "    block = nn.Sequential(\n",
    "        nn.Conv2d(in_channels, out_channels, kernel_size, stride, padding),\n",
    "        nn.ReLU(inplace=True),\n",
    "    )\n",
    "    return block"
   ]
  },
  {
   "cell_type": "code",
   "execution_count": 10,
   "id": "41f99dca",
   "metadata": {},
   "outputs": [
    {
     "name": "stdout",
     "output_type": "stream",
     "text": [
      "torch.Size([1, 1, 28, 28])\n"
     ]
    }
   ],
   "source": [
    "import torch\n",
    "x = torch.randn([1,1,28,28]) ## ->  Batch Size, Img Channel, H, W\n",
    "print(x.shape)"
   ]
  },
  {
   "cell_type": "code",
   "execution_count": 11,
   "id": "ddd21ce9",
   "metadata": {},
   "outputs": [],
   "source": [
    "layer1 = make_conv_block(in_channels=1,out_channels=64,kernel_size=3,stride=1,padding=1)"
   ]
  },
  {
   "cell_type": "code",
   "execution_count": 12,
   "id": "ef065e89",
   "metadata": {},
   "outputs": [
    {
     "name": "stdout",
     "output_type": "stream",
     "text": [
      "torch.Size([1, 64, 28, 28])\n"
     ]
    }
   ],
   "source": [
    "out1 = layer1(x)\n",
    "print(out1.shape)"
   ]
  },
  {
   "cell_type": "code",
   "execution_count": 13,
   "id": "d21d3bb9",
   "metadata": {},
   "outputs": [],
   "source": [
    "import torch.nn as nn\n",
    "\n",
    "def make_max_pool_layer(kernel_size=2, stride=2, padding=0):\n",
    "    \"\"\"\n",
    "    Returns a MaxPool2d layer with given parameters.\n",
    "\n",
    "    Args:\n",
    "        kernel_size (int or tuple): Size of the pooling window.\n",
    "        stride (int or tuple): Stride of the pooling window.\n",
    "        padding (int or tuple): Implicit zero padding to be added on both sides.\n",
    "\n",
    "    Returns:\n",
    "        nn.MaxPool2d: A PyTorch max pooling layer.\n",
    "    \"\"\"\n",
    "    return nn.MaxPool2d(kernel_size=kernel_size, stride=stride, padding=padding)"
   ]
  },
  {
   "cell_type": "code",
   "execution_count": 14,
   "id": "1082e153",
   "metadata": {},
   "outputs": [],
   "source": [
    "max_pool1 = make_max_pool_layer(kernel_size=2, stride=2)"
   ]
  },
  {
   "cell_type": "code",
   "execution_count": 15,
   "id": "a8902d63",
   "metadata": {},
   "outputs": [],
   "source": [
    "out_max_pool1 = max_pool1(out1)"
   ]
  },
  {
   "cell_type": "code",
   "execution_count": null,
   "id": "bce83a3c",
   "metadata": {},
   "outputs": [],
   "source": [
    "layer2 = make_conv_block()\n",
    "layer3 = make_conv_block()"
   ]
  }
 ],
 "metadata": {
  "kernelspec": {
   "display_name": "Python 3",
   "language": "python",
   "name": "python3"
  },
  "language_info": {
   "codemirror_mode": {
    "name": "ipython",
    "version": 3
   },
   "file_extension": ".py",
   "mimetype": "text/x-python",
   "name": "python",
   "nbconvert_exporter": "python",
   "pygments_lexer": "ipython3",
   "version": "3.11.1"
  }
 },
 "nbformat": 4,
 "nbformat_minor": 5
}
